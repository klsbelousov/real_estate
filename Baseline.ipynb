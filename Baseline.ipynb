{
 "cells": [
  {
   "cell_type": "code",
   "execution_count": 1,
   "id": "2c399d6c",
   "metadata": {},
   "outputs": [],
   "source": [
    "import pandas as pd\n",
    "import numpy as np\n",
    "import matplotlib.pyplot as plt\n",
    "import warnings\n",
    "\n",
    "\n",
    "%matplotlib inline\n",
    "warnings.filterwarnings('ignore')\n",
    "\n",
    "from sklearn.linear_model import Lasso, Ridge\n",
    "from sklearn.model_selection import train_test_split\n",
    "from sklearn.preprocessing import PowerTransformer\n",
    "from sklearn.metrics import mean_absolute_percentage_error, mean_absolute_error, mean_squared_error"
   ]
  },
  {
   "cell_type": "code",
   "execution_count": 2,
   "id": "dc3df0ca",
   "metadata": {},
   "outputs": [],
   "source": [
    "def drop_nan_columns(dataframe: pd.DataFrame,\n",
    "                     columns: list[str],\n",
    "                     name: str) -> pd.DataFrame:\n",
    "    \"\"\"\n",
    "    Drop columns with multiple NAN values\n",
    "    \n",
    "    :dataframe: \n",
    "        – original pd.DataFrame(s)\n",
    "    :columns: \n",
    "        – list of columns to cl\n",
    "    :return: \n",
    "        – return modified pd.DataFrame\n",
    "    \n",
    "    \"\"\"\n",
    "\n",
    "    for column in columns:\n",
    "        dataframe.drop(column, axis=1, inplace=True)\n",
    "    dataframe.to_csv(f'/Users/klimbelousov/Documents/Projects/real_estate/data/interim/dropped_vals/dropped_values_{name}.csv')"
   ]
  },
  {
   "cell_type": "code",
   "execution_count": 3,
   "id": "9774bcbf",
   "metadata": {},
   "outputs": [],
   "source": [
    "# Drop useless / columns with multiple NAN values\n",
    "drop_nan_columns(pd.read_csv('/Users/klimbelousov/Documents/Projects/real_estate/data/raw/real_estate_train.csv'), \n",
    "                 columns=['Unnamed: 0', 'bedrooms_count', 'balcony', 'year_built'], \n",
    "                 name='train')\n",
    "\n",
    "drop_nan_columns(pd.read_csv('/Users/klimbelousov/Documents/Projects/real_estate/data/raw/real_estate_test.csv'), \n",
    "                 columns=['Unnamed: 0', 'bedrooms_count', 'balcony', 'year_built'], \n",
    "                 name='test')\n",
    "\n"
   ]
  },
  {
   "cell_type": "code",
   "execution_count": 4,
   "id": "18bc887e",
   "metadata": {},
   "outputs": [
    {
     "name": "stdout",
     "output_type": "stream",
     "text": [
      "Unnamed: 0                 0\n",
      "floor_num                  0\n",
      "total_area                 0\n",
      "kitchen_area            1782\n",
      "rooms_count              832\n",
      "living_area             1908\n",
      "is_apartments           1201\n",
      "total_floor                0\n",
      "district                   0\n",
      "hood                       0\n",
      "metro_name                 0\n",
      "metro_transport_type       0\n",
      "metro_time                 0\n",
      "price                      0\n",
      "dtype: int64\n"
     ]
    }
   ],
   "source": [
    "df = pd.read_csv('/Users/klimbelousov/Documents/Projects/real_estate/data/interim/dropped_vals/dropped_values_train.csv')\n",
    "df.head(20)\n",
    "print(df.isna().sum())"
   ]
  },
  {
   "cell_type": "code",
   "execution_count": 5,
   "id": "79583e93",
   "metadata": {},
   "outputs": [],
   "source": [
    "def filling_by_0(dataframe: pd.DataFrame,\n",
    "                 columns: list[str],\n",
    "                 name: str) -> None:\n",
    "    \"\"\"\n",
    "    Filling columns by 0\n",
    "    \n",
    "    :dataframes: \n",
    "        – original pd.DataFrame\n",
    "        \n",
    "    :columns: \n",
    "        – list of columns to fill\n",
    "        \n",
    "    :return: \n",
    "        – return modified pd.DataFrame\n",
    "    \n",
    "    \"\"\"\n",
    "    for column in columns:\n",
    "        dataframe[column] = dataframe[column].fillna(0)\n",
    "    dataframe.to_csv(f'/Users/klimbelousov/Documents/Projects/real_estate/data/interim/filled_by_0/filled_by_0_{name}.csv')"
   ]
  },
  {
   "cell_type": "code",
   "execution_count": 6,
   "id": "f62d4f23",
   "metadata": {},
   "outputs": [],
   "source": [
    "# Studio flats have no separate rooms. So, filling column by 0. \n",
    "# It is not bad idea to fill in the missing values 0 for the baseline\n",
    "filling_by_0(pd.read_csv('/Users/klimbelousov/Documents/Projects/real_estate/data/interim/dropped_vals/dropped_values_train.csv'), \n",
    "             columns=['rooms_count', 'kitchen_area','living_area'], \n",
    "             name='train')\n",
    "\n",
    "filling_by_0(pd.read_csv('/Users/klimbelousov/Documents/Projects/real_estate/data/interim/dropped_vals/dropped_values_test.csv'), \n",
    "             columns=['rooms_count', 'kitchen_area','living_area'], \n",
    "             name='test')"
   ]
  },
  {
   "cell_type": "code",
   "execution_count": 7,
   "id": "19b2bf8b",
   "metadata": {},
   "outputs": [
    {
     "data": {
      "text/plain": [
       "Unnamed: 0.1               0\n",
       "Unnamed: 0                 0\n",
       "floor_num                  0\n",
       "total_area                 0\n",
       "kitchen_area               0\n",
       "rooms_count                0\n",
       "living_area                0\n",
       "is_apartments           1201\n",
       "total_floor                0\n",
       "district                   0\n",
       "hood                       0\n",
       "metro_name                 0\n",
       "metro_transport_type       0\n",
       "metro_time                 0\n",
       "price                      0\n",
       "dtype: int64"
      ]
     },
     "execution_count": 7,
     "metadata": {},
     "output_type": "execute_result"
    }
   ],
   "source": [
    "df = pd.read_csv('/Users/klimbelousov/Documents/Projects/real_estate/data/interim/filled_by_0/filled_by_0_train.csv')\n",
    "df.isna().sum()"
   ]
  },
  {
   "cell_type": "code",
   "execution_count": 8,
   "id": "2676f109",
   "metadata": {},
   "outputs": [],
   "source": [
    "def to_binary(dataframe: pd.DataFrame, \n",
    "              columns: list[str],\n",
    "              name: str) -> pd.DataFrame:\n",
    "    \"\"\"\n",
    "    Fill the missing values with the most frequent value and transform them to binary format\n",
    "    \n",
    "    :dataframes: \n",
    "        – original pd.DataFrame(s)\n",
    "        \n",
    "    :columns: \n",
    "        – list of columns to fill\n",
    "        \n",
    "    :return:\n",
    "        – return modified pd.DataFrame\n",
    "    \"\"\"\n",
    "    binaries = {'t': 1, 'f': 0}\n",
    "\n",
    "    for column in columns:\n",
    "        dataframe[column] = dataframe[column].fillna(dataframe[column].mode()[0])\n",
    "        dataframe[column] = dataframe[column].replace(binaries).astype(int)\n",
    "    dataframe.to_csv(f'/Users/klimbelousov/Documents/Projects/real_estate/data/interim/binary_form/binary_format_{name}.csv')"
   ]
  },
  {
   "cell_type": "code",
   "execution_count": 9,
   "id": "839812a3",
   "metadata": {},
   "outputs": [],
   "source": [
    "to_binary(pd.read_csv('/Users/klimbelousov/Documents/Projects/real_estate/data/interim/filled_by_0/filled_by_0_train.csv'), \n",
    "          columns=['is_apartments'],\n",
    "          name='train')\n",
    "\n",
    "to_binary(pd.read_csv('/Users/klimbelousov/Documents/Projects/real_estate/data/interim/filled_by_0/filled_by_0_test.csv'), \n",
    "          columns=['is_apartments'],\n",
    "          name='test')"
   ]
  },
  {
   "cell_type": "code",
   "execution_count": 10,
   "id": "ce47c994",
   "metadata": {},
   "outputs": [
    {
     "data": {
      "text/plain": [
       "Unnamed: 0.2            0\n",
       "Unnamed: 0.1            0\n",
       "Unnamed: 0              0\n",
       "floor_num               0\n",
       "total_area              0\n",
       "kitchen_area            0\n",
       "rooms_count             0\n",
       "living_area             0\n",
       "is_apartments           0\n",
       "total_floor             0\n",
       "district                0\n",
       "hood                    0\n",
       "metro_name              0\n",
       "metro_transport_type    0\n",
       "metro_time              0\n",
       "price                   0\n",
       "dtype: int64"
      ]
     },
     "execution_count": 10,
     "metadata": {},
     "output_type": "execute_result"
    }
   ],
   "source": [
    "df = pd.read_csv('/Users/klimbelousov/Documents/Projects/real_estate/data/interim/binary_form/binary_format_train.csv')\n",
    "df.isna().sum()"
   ]
  },
  {
   "cell_type": "code",
   "execution_count": 11,
   "id": "9ecd699b",
   "metadata": {},
   "outputs": [],
   "source": [
    "def split_district(dataframe: pd.DataFrame, \n",
    "                   name: str,\n",
    "                   pattern: str,\n",
    "                   column='district') -> None:\n",
    "    \"\"\"\n",
    "    Split district column\n",
    "    \"\"\"\n",
    "    dataframe[['district', 'district_naming']] = df[column].str.split(pattern, expand=True)\n",
    "    dataframe.drop('district_naming', axis=1, inplace=True)\n",
    "    dataframe.to_csv(f'/Users/klimbelousov/Documents/Projects/real_estate/data/interim/splitted_district/splitted_district_{name}.csv')"
   ]
  },
  {
   "cell_type": "code",
   "execution_count": 12,
   "id": "a859a527",
   "metadata": {
    "scrolled": true
   },
   "outputs": [],
   "source": [
    "split_district(\n",
    "    pd.read_csv('/Users/klimbelousov/Documents/Projects/real_estate/data/interim/binary_form/binary_format_train.csv'), \n",
    "    name='train',\n",
    "    pattern=' ',\n",
    ")\n",
    "\n",
    "split_district(\n",
    "    pd.read_csv('/Users/klimbelousov/Documents/Projects/real_estate/data/interim/binary_form/binary_format_train.csv'), \n",
    "    name='test',\n",
    "    pattern=' ',\n",
    ")"
   ]
  },
  {
   "cell_type": "code",
   "execution_count": 13,
   "id": "596633f0",
   "metadata": {},
   "outputs": [
    {
     "data": {
      "text/plain": [
       "district\n",
       "ЦАО      1565\n",
       "ЗАО      1041\n",
       "НАО       706\n",
       "САО       530\n",
       "ЮАО       498\n",
       "СЗАО      491\n",
       "СВАО      353\n",
       "ЮВАО      334\n",
       "ЮЗАО      332\n",
       "ВАО       215\n",
       "ЗелАО      32\n",
       "ТАО        29\n",
       "Name: count, dtype: int64"
      ]
     },
     "execution_count": 13,
     "metadata": {},
     "output_type": "execute_result"
    }
   ],
   "source": [
    "df = pd.read_csv('/Users/klimbelousov/Documents/Projects/real_estate/data/interim/splitted_district/splitted_district_train.csv')\n",
    "df['district'].value_counts()"
   ]
  },
  {
   "cell_type": "code",
   "execution_count": 14,
   "id": "572b994a",
   "metadata": {},
   "outputs": [],
   "source": [
    "def clean_outliers(dataframe: pd.DataFrame,\n",
    "                   name: str) -> None:\n",
    "    \"\"\"\n",
    "    Delete rows in which the value of any of the features exceeds and writes it to .csv file\n",
    "    \n",
    "    :dataframes:\n",
    "        - original pd.DataFrame\n",
    "\n",
    "    :return:\n",
    "        - modified pd.DataFrame\n",
    "    \"\"\"\n",
    "    dataframe = dataframe[dataframe['total_area'] < dataframe['total_area'].quantile(.8)]\n",
    "    dataframe = dataframe[dataframe['total_area'] > 15]\n",
    "    dataframe.to_csv(f'/Users/klimbelousov/Documents/Projects/real_estate/data/interim/cleaned_outliers/cleaned_outliers_{name}.csv')"
   ]
  },
  {
   "cell_type": "code",
   "execution_count": 15,
   "id": "3cb5d381",
   "metadata": {},
   "outputs": [],
   "source": [
    "clean_outliers(\n",
    "    pd.read_csv('/Users/klimbelousov/Documents/Projects/real_estate/data/interim/splitted_district/splitted_district_train.csv'),\n",
    "    'train')\n",
    "\n",
    "clean_outliers(\n",
    "    pd.read_csv('/Users/klimbelousov/Documents/Projects/real_estate/data/interim/splitted_district/splitted_district_test.csv'),\n",
    "    'test')"
   ]
  },
  {
   "cell_type": "code",
   "execution_count": 16,
   "id": "999fb6ce",
   "metadata": {},
   "outputs": [
    {
     "name": "stdout",
     "output_type": "stream",
     "text": [
      "(4886, 18)\n"
     ]
    }
   ],
   "source": [
    "df = pd.read_csv('/Users/klimbelousov/Documents/Projects/real_estate/data/interim/cleaned_outliers/cleaned_outliers_train.csv')\n",
    "print(df.shape)"
   ]
  },
  {
   "cell_type": "code",
   "execution_count": 17,
   "id": "395fb7d9",
   "metadata": {},
   "outputs": [],
   "source": [
    "def encoding(df: pd.DataFrame,\n",
    "             name: str) -> pd.DataFrame:\n",
    "    \"\"\"\n",
    "    Function perfroms one-hot-encoding for categorical features and writes it to .csv file\n",
    "\n",
    "    :input:\n",
    "        – original pd.DataFrame\n",
    "\n",
    "    :name:\n",
    "        - naming of output .csv file\n",
    "\n",
    "    :return:\n",
    "        - modified pd.DataFrame \n",
    "    \"\"\"\n",
    "    \n",
    "    binaries = {True: 1, False: 0}\n",
    "    df = pd.get_dummies(data=df, drop_first=True)\n",
    "    df.replace(binaries, inplace=True)\n",
    "    df.to_csv(f'/Users/klimbelousov/Documents/Projects/real_estate/data/interim/encoding/encoding_{name}.csv')"
   ]
  },
  {
   "cell_type": "code",
   "execution_count": 18,
   "id": "54ae7245",
   "metadata": {
    "scrolled": true
   },
   "outputs": [],
   "source": [
    "encoding(\n",
    "    pd.read_csv('/Users/klimbelousov/Documents/Projects/real_estate/data/interim/cleaned_outliers/cleaned_outliers_train.csv'),\n",
    "    'train'\n",
    ")\n",
    "\n",
    "encoding(\n",
    "    pd.read_csv('/Users/klimbelousov/Documents/Projects/real_estate/data/interim/cleaned_outliers/cleaned_outliers_test.csv'),\n",
    "    'test'\n",
    ")"
   ]
  },
  {
   "cell_type": "code",
   "execution_count": 19,
   "id": "d257b241",
   "metadata": {},
   "outputs": [],
   "source": [
    "def predictors_n_target(dataframe: pd.DataFrame,\n",
    "                        name: str) -> (pd.DataFrame | pd.Series):\n",
    "    \"\"\"\n",
    "    Splitting data into predictors and target variables\n",
    "    \"\"\"\n",
    "    X = dataframe.drop('price', axis=1)\n",
    "    y = dataframe['price']\n",
    "    X.to_csv(f'/Users/klimbelousov/Documents/Projects/real_estate/data/interim/X/{name}_X.csv')\n",
    "    y.to_csv(f'/Users/klimbelousov/Documents/Projects/real_estate/data/interim/Y/{name}_y.csv')"
   ]
  },
  {
   "cell_type": "code",
   "execution_count": 20,
   "id": "d9ab7af4",
   "metadata": {},
   "outputs": [],
   "source": [
    "predictors_n_target(\n",
    "    pd.read_csv('/Users/klimbelousov/Documents/Projects/real_estate/data/interim/encoding/encoding_train.csv'),\n",
    "    'train'\n",
    ")\n",
    "\n",
    "predictors_n_target(\n",
    "    pd.read_csv('/Users/klimbelousov/Documents/Projects/real_estate/data/interim/encoding/encoding_test.csv'),\n",
    "    'test'\n",
    ")"
   ]
  },
  {
   "cell_type": "code",
   "execution_count": 21,
   "id": "6b299f00",
   "metadata": {},
   "outputs": [],
   "source": [
    "def transform(dataframe: pd.DataFrame,\n",
    "              name: str) -> pd.DataFrame:\n",
    "    \"\"\"\n",
    "    Function performs Yeo-Jonhson transformation\n",
    "    \"\"\"\n",
    "    pt = PowerTransformer()\n",
    "    X_scaled = pt.fit_transform(dataframe)\n",
    "    X_scaled = pd.DataFrame(X_scaled, columns=[i for i in dataframe.columns if i != 'price'])\n",
    "    X_scaled.to_csv(f'/Users/klimbelousov/Documents/Projects/real_estate/data/interim/X/{name}_X_scaled.csv')"
   ]
  },
  {
   "cell_type": "code",
   "execution_count": 22,
   "id": "c9dd3994",
   "metadata": {},
   "outputs": [],
   "source": [
    "transform(pd.read_csv('/Users/klimbelousov/Documents/Projects/real_estate/data/interim/X/train_X.csv'), 'train')\n",
    "transform(pd.read_csv('/Users/klimbelousov/Documents/Projects/real_estate/data/interim/X/test_X.csv'), 'test')\n"
   ]
  },
  {
   "cell_type": "code",
   "execution_count": 23,
   "id": "88f6d6b8",
   "metadata": {},
   "outputs": [],
   "source": [
    "def validation_sampling(X: pd.DataFrame, \n",
    "                        y: pd.Series,\n",
    "                        test_size: float,\n",
    "                        seed: int) -> pd.DataFrame:\n",
    "    \"\"\"\n",
    "    Splitting data into holdout sample\n",
    "    \n",
    "    :X: \n",
    "        - predictor variables presented as pd.DataFrame\n",
    "        \n",
    "    :y: \n",
    "        - target variable as pd.Series\n",
    "        \n",
    "    :test_size: \n",
    "        - size of sample\n",
    "        \n",
    "    :seed: \n",
    "        - randomness variable\n",
    "    \"\"\"\n",
    "    X_train, X_test, y_train, y_test= train_test_split(X, y, test_size=test_size, random_state=seed)\n",
    "    X_train.to_csv(f'/Users/klimbelousov/Documents/Projects/real_estate/data/interim/X/X_train.csv')\n",
    "    X_test.to_csv(f'/Users/klimbelousov/Documents/Projects/real_estate/data/interim/X/X_test.csv')\n",
    "    y_train.to_csv(f'/Users/klimbelousov/Documents/Projects/real_estate/data/interim/Y/y_train.csv')\n",
    "    y_test.to_csv(f'/Users/klimbelousov/Documents/Projects/real_estate/data/interim/Y/y_test.csv')\n",
    "    "
   ]
  },
  {
   "cell_type": "code",
   "execution_count": 26,
   "id": "70542afb",
   "metadata": {},
   "outputs": [],
   "source": [
    "validation_sampling(pd.read_csv('/Users/klimbelousov/Documents/Projects/real_estate/data/interim/X/train_X_scaled.csv'), \n",
    "                    pd.read_csv('/Users/klimbelousov/Documents/Projects/real_estate/data/interim/Y/train_y.csv'), \n",
    "                    test_size=0.2, \n",
    "                    seed=52)"
   ]
  },
  {
   "cell_type": "code",
   "execution_count": 27,
   "id": "921c4b32",
   "metadata": {},
   "outputs": [],
   "source": [
    "def data_to_processed() -> None:\n",
    "    X_train = pd.read_csv('/Users/klimbelousov/Documents/Projects/real_estate/data/interim/X/X_train.csv')\n",
    "    X_test = pd.read_csv('/Users/klimbelousov/Documents/Projects/real_estate/data/interim/X/X_test.csv')\n",
    "    y_train = pd.read_csv('/Users/klimbelousov/Documents/Projects/real_estate/data/interim/Y/y_train.csv')\n",
    "    y_test = pd.read_csv('/Users/klimbelousov/Documents/Projects/real_estate/data/interim/Y/y_test.csv')\n",
    "    dataframes = [X_train, X_test, y_train, y_test]\n",
    "    for df in dataframes:\n",
    "        for column in df.columns:\n",
    "            if 'Unnamed' in column:\n",
    "                df.drop(column, axis=1, inplace=True)\n",
    "    X_train.to_csv('/Users/klimbelousov/Documents/Projects/real_estate/data/processed/X_train.csv')\n",
    "    X_test.to_csv('/Users/klimbelousov/Documents/Projects/real_estate/data/processed/X_test.csv')\n",
    "    y_train.to_csv('/Users/klimbelousov/Documents/Projects/real_estate/data/processed/y_train.csv')\n",
    "    y_test.to_csv('/Users/klimbelousov/Documents/Projects/real_estate/data/processed/y_test.csv')\n",
    "\n"
   ]
  },
  {
   "cell_type": "code",
   "execution_count": 28,
   "id": "4090bedb",
   "metadata": {},
   "outputs": [],
   "source": [
    "data_to_processed()"
   ]
  },
  {
   "cell_type": "code",
   "execution_count": 86,
   "id": "560a767d",
   "metadata": {},
   "outputs": [],
   "source": [
    "def linear_lasso(predictors: pd.DataFrame, \n",
    "           target: pd.Series, \n",
    "           test_predictors: pd.DataFrame, \n",
    "           alpha: float, \n",
    "           seed: int) -> pd.Series:\n",
    "    \"\"\"\n",
    "    Fitting Lasso linear regression with:\n",
    "    \n",
    "    :predictors:\n",
    "        - X_train as pd.DataFrame\n",
    "        \n",
    "    :target:\n",
    "        - y_train as pd.Series\n",
    "        \n",
    "    :test_predictors:\n",
    "        - X_test as pd.DataFrame\n",
    "        \n",
    "    :alpha:\n",
    "        - hyperparameter\n",
    "        \n",
    "    :seed:\n",
    "        - fixed randomness parameter\n",
    "        \n",
    "    :return:\n",
    "        - predicted value (y_pred) & mean_absolute_percentage_error (mape)\n",
    "    \"\"\"\n",
    "    lasso = Lasso(alpha=alpha, random_state=seed)\n",
    "    lasso.fit(predictors, target)\n",
    "    y_pred = lasso.predict(test_predictors)\n",
    "    mape = mean_absolute_percentage_error(y_valid, y_pred)\n",
    "    return y_pred, mape"
   ]
  },
  {
   "cell_type": "code",
   "execution_count": 87,
   "id": "6a9c4b3f",
   "metadata": {},
   "outputs": [
    {
     "data": {
      "text/plain": [
       "(array([1.48624889e+07, 1.24184410e+06, 4.42156814e+08, ...,\n",
       "        4.29782956e+06, 2.25502496e+08, 5.69681318e+07]),\n",
       " 0.7577030298373951)"
      ]
     },
     "execution_count": 87,
     "metadata": {},
     "output_type": "execute_result"
    }
   ],
   "source": [
    "linear_lasso(X_train, y_train, X_valid, alpha=0.05, seed=13)"
   ]
  },
  {
   "cell_type": "code",
   "execution_count": null,
   "id": "e41d2d1e",
   "metadata": {},
   "outputs": [],
   "source": [
    "linear_lasso()"
   ]
  }
 ],
 "metadata": {
  "kernelspec": {
   "display_name": "Python 3 (ipykernel)",
   "language": "python",
   "name": "python3"
  },
  "language_info": {
   "codemirror_mode": {
    "name": "ipython",
    "version": 3
   },
   "file_extension": ".py",
   "mimetype": "text/x-python",
   "name": "python",
   "nbconvert_exporter": "python",
   "pygments_lexer": "ipython3",
   "version": "3.12.3"
  }
 },
 "nbformat": 4,
 "nbformat_minor": 5
}
